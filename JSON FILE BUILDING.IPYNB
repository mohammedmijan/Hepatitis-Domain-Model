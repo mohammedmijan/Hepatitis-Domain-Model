{
 "cells": [
  {
   "cell_type": "code",
   "execution_count": 2,
   "metadata": {},
   "outputs": [],
   "source": [
    "#Models call modules\n",
    "import joblib\n",
    "import pandas as pd\n",
    "import numpy as np\n"
   ]
  },
  {
   "cell_type": "code",
   "execution_count": 10,
   "metadata": {},
   "outputs": [],
   "source": [
    "#Data Test\n",
    "def data_formating(data:np.matrix or pd.DataFrame or list or dict):\n",
    "    names = [\"class_\",\"age\", \"sex\", \"sterioid\", \"antivirals\", \"fatigue\",\"malaise\", \"anorexia\",\"liver_big\", \"liver_firm\", \"spleen_palable\",\"spiders\", \"ascities\", \"varices\", \"bilirubin\",\"alk_phosphate\", \"sgot\", \"albumin\",\"prothtime\", \"histology\"]\n",
    "    \n",
    "    #Feature of predicting data\n",
    "    def feature_labels_divider(data):\n",
    "        df = pd.DataFrame(data=data, columns=names)\n",
    "        df = df.copy()\n",
    "        df_ = df.copy()\n",
    "        x = df_.drop(columns=['class_']).copy()\n",
    "        y = df.class_\n",
    "        return x, y\n",
    "\n",
    "    \n",
    "    def list_formatting():\n",
    "        np_df = np.array(data)\n",
    "        np_df = np_df.reshape((1, 20))\n",
    "        return feature_labels_divider(data=np_df)\n",
    "\n",
    "    def dict_formatting():\n",
    "       return feature_labels_divider(data=data)\n",
    "\n",
    "    def matrix_formatting():\n",
    "        pass\n",
    "\n",
    "    ## Function Initialization\n",
    "    if type(data) == list:\n",
    "        x , y = list_formatting()\n",
    "    elif type(data) == dict:\n",
    "        x , y = dict_formatting()\n",
    "    elif type(data) == np.matrix:\n",
    "        x , y = matrix_formatting()\n",
    "    else:\n",
    "        df = data.copy()\n",
    "        df_ = df.copy()\n",
    "        x = df_.drop(columns=['class_']).copy()\n",
    "        y = df.class_\n",
    "        return x, y\n",
    "\n",
    "    #columns distribution\n",
    "    y = y.replace([1,2], ['Die', 'Live'])\n",
    "    x['sex'] = x['sex'].replace([1,2],['Male', 'Female'])\n",
    "    for col in ['sex', 'sterioid', 'antivirals', 'fatigue', 'malaise', 'anorexia', 'liver_big', 'liver_firm', 'spleen_palable', 'spiders', 'ascities', 'varices', 'histology']:\n",
    "        if x[col].dtype == 'O':\n",
    "            x[col] = x[col].replace(['1','2'], ['No', 'Yes'])\n",
    "        else:\n",
    "            x[col] = x[col].replace([1,2], ['No', 'Yes'])\n",
    "    return x, y\n",
    "\n"
   ]
  },
  {
   "cell_type": "code",
   "execution_count": 47,
   "metadata": {},
   "outputs": [
    {
     "name": "stdout",
     "output_type": "stream",
     "text": [
      "Live\n"
     ]
    }
   ],
   "source": [
    "#Call the models\n",
    "data = [0,39,1,1,1,1,2,2,1,1,1,1,1,2,1.1,80,20,4.4,70,1]\n",
    "x , y = data_formating(data=data)\n",
    "model = joblib.load(filename='model.json')\n",
    "preds = model.predict(x)\n",
    "for pred in preds:\n",
    "    if pred == 1:\n",
    "        notify = \"Live\"\n",
    "    elif pred == 0:\n",
    "        notify = \"Die\"\n",
    "\n",
    "json_file = {\"Condition\": notify}\n",
    "print(notify)"
   ]
  },
  {
   "cell_type": "markdown",
   "metadata": {},
   "source": [
    "### Limitations\n",
    "#### - 1. The dataset is only for the patients of hepatitis, So, the model is working on patients\n",
    "#### - 2. The dataset is not as much as big which can create an appropriate model"
   ]
  }
 ],
 "metadata": {
  "kernelspec": {
   "display_name": "Python 3",
   "language": "python",
   "name": "python3"
  },
  "language_info": {
   "codemirror_mode": {
    "name": "ipython",
    "version": 3
   },
   "file_extension": ".py",
   "mimetype": "text/x-python",
   "name": "python",
   "nbconvert_exporter": "python",
   "pygments_lexer": "ipython3",
   "version": "3.9.5"
  },
  "orig_nbformat": 4
 },
 "nbformat": 4,
 "nbformat_minor": 2
}
