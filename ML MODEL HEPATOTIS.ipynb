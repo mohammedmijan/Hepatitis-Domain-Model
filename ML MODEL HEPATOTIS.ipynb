{
 "cells": [
  {
   "cell_type": "markdown",
   "metadata": {},
   "source": [
    "# Machine Learning Model of Hepatitis Domain\n",
    "\n",
    "#### Finding Out:\n",
    "- The living patients terminology prediction\n",
    "- The die patients identified"
   ]
  },
  {
   "cell_type": "markdown",
   "metadata": {},
   "source": [
    "#### Importing modules"
   ]
  },
  {
   "cell_type": "code",
   "execution_count": 173,
   "metadata": {},
   "outputs": [],
   "source": [
    "import pandas as pd\n",
    "import numpy as np\n",
    "import matplotlib.pyplot as plt\n",
    "import seaborn as sns\n",
    "import warnings\n",
    "warnings.filterwarnings(\"ignore\")\n",
    "\n",
    "\n",
    "#modeling\n",
    "from sklearn.cluster import AgglomerativeClustering, AffinityPropagation, FeatureAgglomeration, OPTICS, Birch\n",
    "from sklearn.linear_model import LogisticRegression, MultiTaskElasticNet, SGDClassifier, Perceptron\n",
    "from sklearn.neighbors import KNeighborsClassifier, RadiusNeighborsClassifier\n",
    "from sklearn.tree import DecisionTreeClassifier, plot_tree, ExtraTreeClassifier\n",
    "from sklearn.svm import SVC\n",
    "from sklearn.ensemble import BaggingClassifier, RandomForestClassifier, ExtraTreesClassifier, AdaBoostClassifier, GradientBoostingClassifier, StackingClassifier, VotingClassifier\n",
    "from sklearn.gaussian_process import GaussianProcessClassifier\n",
    "from sklearn.naive_bayes import BernoulliNB, GaussianNB, CategoricalNB\n",
    "from sklearn.neural_network import MLPClassifier\n",
    "\n",
    "#Model Selection and Preprocessing\n",
    "from sklearn.model_selection import train_test_split, GridSearchCV, cross_val_score, cross_validate, cross_val_predict\n",
    "from sklearn.metrics import rand_score, adjusted_rand_score, mutual_info_score, adjusted_mutual_info_score, plot_confusion_matrix , homogeneity_score, completeness_score, v_measure_score, homogeneity_completeness_v_measure ,confusion_matrix, f1_score, precision_score, recall_score, precision_recall_curve, plot_precision_recall_curve, plot_roc_curve\n",
    "from sklearn.feature_selection import SelectKBest, f_classif\n",
    "from sklearn.preprocessing import Binarizer, StandardScaler, OneHotEncoder, Normalizer\n",
    "\n",
    "#Composition and Pipeline Established\n",
    "from sklearn.compose import ColumnTransformer\n",
    "from sklearn.pipeline import make_pipeline, Pipeline\n",
    "\n",
    "#Save the model \n",
    "import joblib"
   ]
  },
  {
   "cell_type": "code",
   "execution_count": 174,
   "metadata": {},
   "outputs": [],
   "source": [
    "#MOdels in Lists\n",
    "liner_models = [LogisticRegression(), SGDClassifier(), Perceptron(penalty='elasticnet')]\n",
    "neighbors = [KNeighborsClassifier()]\n",
    "trees = [DecisionTreeClassifier(), ExtraTreeClassifier()]\n",
    "svc = SVC(kernel='sigmoid')\n",
    "ensamples = [BaggingClassifier(), RandomForestClassifier(), ExtraTreesClassifier(), AdaBoostClassifier(), GradientBoostingClassifier()]\n",
    "ensamples_stacking = StackingClassifier(estimators=[(\"perceptron\",Perceptron(penalty='elasticnet')), (\"GBC\", GradientBoostingClassifier()), ('SGDC', SGDClassifier())])\n",
    "ensamples_voting = VotingClassifier(estimators=[(\"perceptron\",Perceptron(penalty='elasticnet')), (\"GBC\", GradientBoostingClassifier()), ('SGDC', SGDClassifier())])\n",
    "gausian = GaussianProcessClassifier()\n",
    "bayes = [BernoulliNB(), GaussianNB()]\n",
    "nn_models = MLPClassifier(hidden_layer_sizes=50, activation='logistic', learning_rate='adaptive')"
   ]
  },
  {
   "cell_type": "markdown",
   "metadata": {},
   "source": [
    "#### Reading the data"
   ]
  },
  {
   "cell_type": "code",
   "execution_count": 175,
   "metadata": {},
   "outputs": [
    {
     "data": {
      "text/html": [
       "<div>\n",
       "<style scoped>\n",
       "    .dataframe tbody tr th:only-of-type {\n",
       "        vertical-align: middle;\n",
       "    }\n",
       "\n",
       "    .dataframe tbody tr th {\n",
       "        vertical-align: top;\n",
       "    }\n",
       "\n",
       "    .dataframe thead th {\n",
       "        text-align: right;\n",
       "    }\n",
       "</style>\n",
       "<table border=\"1\" class=\"dataframe\">\n",
       "  <thead>\n",
       "    <tr style=\"text-align: right;\">\n",
       "      <th></th>\n",
       "      <th>class_</th>\n",
       "      <th>age</th>\n",
       "      <th>sex</th>\n",
       "      <th>sterioid</th>\n",
       "      <th>antivirals</th>\n",
       "      <th>fatigue</th>\n",
       "      <th>malaise</th>\n",
       "      <th>anorexia</th>\n",
       "      <th>liver_big</th>\n",
       "      <th>liver_firm</th>\n",
       "      <th>spleen_palable</th>\n",
       "      <th>spiders</th>\n",
       "      <th>ascities</th>\n",
       "      <th>varices</th>\n",
       "      <th>bilirubin</th>\n",
       "      <th>alk_phosphate</th>\n",
       "      <th>sgot</th>\n",
       "      <th>albumin</th>\n",
       "      <th>prothtime</th>\n",
       "      <th>histology</th>\n",
       "    </tr>\n",
       "  </thead>\n",
       "  <tbody>\n",
       "    <tr>\n",
       "      <th>0</th>\n",
       "      <td>2</td>\n",
       "      <td>30</td>\n",
       "      <td>2</td>\n",
       "      <td>1</td>\n",
       "      <td>2</td>\n",
       "      <td>2</td>\n",
       "      <td>2</td>\n",
       "      <td>2</td>\n",
       "      <td>1</td>\n",
       "      <td>2</td>\n",
       "      <td>2</td>\n",
       "      <td>2</td>\n",
       "      <td>2</td>\n",
       "      <td>2</td>\n",
       "      <td>1.00</td>\n",
       "      <td>85</td>\n",
       "      <td>18</td>\n",
       "      <td>4.0</td>\n",
       "      <td>?</td>\n",
       "      <td>1</td>\n",
       "    </tr>\n",
       "    <tr>\n",
       "      <th>1</th>\n",
       "      <td>2</td>\n",
       "      <td>50</td>\n",
       "      <td>1</td>\n",
       "      <td>1</td>\n",
       "      <td>2</td>\n",
       "      <td>1</td>\n",
       "      <td>2</td>\n",
       "      <td>2</td>\n",
       "      <td>1</td>\n",
       "      <td>2</td>\n",
       "      <td>2</td>\n",
       "      <td>2</td>\n",
       "      <td>2</td>\n",
       "      <td>2</td>\n",
       "      <td>0.90</td>\n",
       "      <td>135</td>\n",
       "      <td>42</td>\n",
       "      <td>3.5</td>\n",
       "      <td>?</td>\n",
       "      <td>1</td>\n",
       "    </tr>\n",
       "    <tr>\n",
       "      <th>2</th>\n",
       "      <td>2</td>\n",
       "      <td>78</td>\n",
       "      <td>1</td>\n",
       "      <td>2</td>\n",
       "      <td>2</td>\n",
       "      <td>1</td>\n",
       "      <td>2</td>\n",
       "      <td>2</td>\n",
       "      <td>2</td>\n",
       "      <td>2</td>\n",
       "      <td>2</td>\n",
       "      <td>2</td>\n",
       "      <td>2</td>\n",
       "      <td>2</td>\n",
       "      <td>0.70</td>\n",
       "      <td>96</td>\n",
       "      <td>32</td>\n",
       "      <td>4.0</td>\n",
       "      <td>?</td>\n",
       "      <td>1</td>\n",
       "    </tr>\n",
       "    <tr>\n",
       "      <th>3</th>\n",
       "      <td>2</td>\n",
       "      <td>31</td>\n",
       "      <td>1</td>\n",
       "      <td>?</td>\n",
       "      <td>1</td>\n",
       "      <td>2</td>\n",
       "      <td>2</td>\n",
       "      <td>2</td>\n",
       "      <td>2</td>\n",
       "      <td>2</td>\n",
       "      <td>2</td>\n",
       "      <td>2</td>\n",
       "      <td>2</td>\n",
       "      <td>2</td>\n",
       "      <td>0.70</td>\n",
       "      <td>46</td>\n",
       "      <td>52</td>\n",
       "      <td>4.0</td>\n",
       "      <td>80</td>\n",
       "      <td>1</td>\n",
       "    </tr>\n",
       "  </tbody>\n",
       "</table>\n",
       "</div>"
      ],
      "text/plain": [
       "   class_  age  sex sterioid  antivirals fatigue malaise anorexia liver_big  \\\n",
       "0       2   30    2        1           2       2       2        2         1   \n",
       "1       2   50    1        1           2       1       2        2         1   \n",
       "2       2   78    1        2           2       1       2        2         2   \n",
       "3       2   31    1        ?           1       2       2        2         2   \n",
       "\n",
       "  liver_firm spleen_palable spiders ascities varices bilirubin alk_phosphate  \\\n",
       "0          2              2       2        2       2      1.00            85   \n",
       "1          2              2       2        2       2      0.90           135   \n",
       "2          2              2       2        2       2      0.70            96   \n",
       "3          2              2       2        2       2      0.70            46   \n",
       "\n",
       "  sgot albumin prothtime  histology  \n",
       "0   18     4.0         ?          1  \n",
       "1   42     3.5         ?          1  \n",
       "2   32     4.0         ?          1  \n",
       "3   52     4.0        80          1  "
      ]
     },
     "execution_count": 175,
     "metadata": {},
     "output_type": "execute_result"
    }
   ],
   "source": [
    "names = [\"class_\",\"age\", \"sex\", \"sterioid\", \"antivirals\", \"fatigue\",\"malaise\", \"anorexia\",\"liver_big\", \"liver_firm\", \"spleen_palable\",\"spiders\", \"ascities\", \"varices\", \"bilirubin\",\"alk_phosphate\", \"sgot\", \"albumin\",\"prothtime\", \"histology\"]\n",
    "df = pd.read_csv(\"hepatitis.data\", names=names, index_col=None, sep=\",\")\n",
    "dataset = df.copy()\n",
    "dataset.head(n=4)"
   ]
  },
  {
   "cell_type": "code",
   "execution_count": 176,
   "metadata": {},
   "outputs": [
    {
     "data": {
      "text/plain": [
       "Index(['class_', 'age', 'sex', 'sterioid', 'antivirals', 'fatigue', 'malaise',\n",
       "       'anorexia', 'liver_big', 'liver_firm', 'spleen_palable', 'spiders',\n",
       "       'ascities', 'varices', 'bilirubin', 'alk_phosphate', 'sgot', 'albumin',\n",
       "       'prothtime', 'histology'],\n",
       "      dtype='object')"
      ]
     },
     "execution_count": 176,
     "metadata": {},
     "output_type": "execute_result"
    }
   ],
   "source": [
    "df.columns"
   ]
  },
  {
   "cell_type": "markdown",
   "metadata": {},
   "source": [
    "### Formatting Data for Model"
   ]
  },
  {
   "cell_type": "code",
   "execution_count": 177,
   "metadata": {},
   "outputs": [],
   "source": [
    "df['class_'] = df['class_'].replace([1,2], ['Die', 'Live'])\n",
    "df['sex'] = df['sex'].replace([1,2],['Male', 'Female'])\n",
    "for col in ['class_', 'sex', 'sterioid', 'antivirals', 'fatigue', 'malaise', 'anorexia', 'liver_big', 'liver_firm', 'spleen_palable', 'spiders', 'ascities', 'varices', 'histology']:\n",
    "    if df[col].dtype == 'O':\n",
    "        df[col] = df[col].replace(['1','2'], ['No', 'Yes'])\n",
    "    else:\n",
    "        df[col] = df[col].replace([1,2], ['No', 'Yes'])"
   ]
  },
  {
   "cell_type": "code",
   "execution_count": 178,
   "metadata": {},
   "outputs": [],
   "source": [
    "#\"\"\"df['class_'] = df['class_'].replace(['Die', 'Live'], [0,1])\n",
    "#df['sex'] = df['sex'].replace(['Male', 'Female'], [0, 1])\n",
    "#for col in ['class_', 'sex', 'sterioid', 'antivirals', 'fatigue', 'malaise', 'anorexia', 'liver_big', 'liver_firm', 'spleen_palable', 'spiders', 'ascities', 'varices', 'histology']:\n",
    "#    df[col] = df[col].replace(['No', 'Yes'], [0, 1])\"\"\""
   ]
  },
  {
   "cell_type": "code",
   "execution_count": 179,
   "metadata": {},
   "outputs": [],
   "source": [
    "float_list = []\n",
    "for column in df.columns:\n",
    "    length = len(df[column].unique())\n",
    "    if length > 3:\n",
    "        float_list.append(column)"
   ]
  },
  {
   "cell_type": "code",
   "execution_count": 180,
   "metadata": {},
   "outputs": [],
   "source": [
    "for col in float_list:\n",
    "    df[col] = df[col].replace(['?'], [0])\n",
    "    df[col] = df[col].astype(\"float64\")"
   ]
  },
  {
   "cell_type": "code",
   "execution_count": 181,
   "metadata": {},
   "outputs": [
    {
     "data": {
      "text/plain": [
       "array([4. , 3.5, 0. , 4.4, 3.9, 3.7, 4.9, 2.9, 4.3, 4.1, 4.2, 4.7, 3.8,\n",
       "       2.7, 4.6, 5. , 3.3, 4.5, 3.4, 3.1, 3. , 2.6, 5.3, 4.8, 2.8, 3.6,\n",
       "       2.1, 6.4, 2.4, 2.2])"
      ]
     },
     "execution_count": 181,
     "metadata": {},
     "output_type": "execute_result"
    }
   ],
   "source": [
    "df.albumin.unique()"
   ]
  },
  {
   "cell_type": "code",
   "execution_count": 182,
   "metadata": {},
   "outputs": [
    {
     "data": {
      "text/html": [
       "<div>\n",
       "<style scoped>\n",
       "    .dataframe tbody tr th:only-of-type {\n",
       "        vertical-align: middle;\n",
       "    }\n",
       "\n",
       "    .dataframe tbody tr th {\n",
       "        vertical-align: top;\n",
       "    }\n",
       "\n",
       "    .dataframe thead th {\n",
       "        text-align: right;\n",
       "    }\n",
       "</style>\n",
       "<table border=\"1\" class=\"dataframe\">\n",
       "  <thead>\n",
       "    <tr style=\"text-align: right;\">\n",
       "      <th></th>\n",
       "      <th>class_</th>\n",
       "      <th>age</th>\n",
       "      <th>sex</th>\n",
       "      <th>sterioid</th>\n",
       "      <th>antivirals</th>\n",
       "      <th>fatigue</th>\n",
       "      <th>malaise</th>\n",
       "      <th>anorexia</th>\n",
       "      <th>liver_big</th>\n",
       "      <th>liver_firm</th>\n",
       "      <th>spleen_palable</th>\n",
       "      <th>spiders</th>\n",
       "      <th>ascities</th>\n",
       "      <th>varices</th>\n",
       "      <th>bilirubin</th>\n",
       "      <th>alk_phosphate</th>\n",
       "      <th>sgot</th>\n",
       "      <th>albumin</th>\n",
       "      <th>prothtime</th>\n",
       "      <th>histology</th>\n",
       "    </tr>\n",
       "  </thead>\n",
       "  <tbody>\n",
       "    <tr>\n",
       "      <th>0</th>\n",
       "      <td>Live</td>\n",
       "      <td>30.0</td>\n",
       "      <td>Female</td>\n",
       "      <td>No</td>\n",
       "      <td>Yes</td>\n",
       "      <td>Yes</td>\n",
       "      <td>Yes</td>\n",
       "      <td>Yes</td>\n",
       "      <td>No</td>\n",
       "      <td>Yes</td>\n",
       "      <td>Yes</td>\n",
       "      <td>Yes</td>\n",
       "      <td>Yes</td>\n",
       "      <td>Yes</td>\n",
       "      <td>1.0</td>\n",
       "      <td>85.0</td>\n",
       "      <td>18.0</td>\n",
       "      <td>4.0</td>\n",
       "      <td>0.0</td>\n",
       "      <td>No</td>\n",
       "    </tr>\n",
       "    <tr>\n",
       "      <th>1</th>\n",
       "      <td>Live</td>\n",
       "      <td>50.0</td>\n",
       "      <td>Male</td>\n",
       "      <td>No</td>\n",
       "      <td>Yes</td>\n",
       "      <td>No</td>\n",
       "      <td>Yes</td>\n",
       "      <td>Yes</td>\n",
       "      <td>No</td>\n",
       "      <td>Yes</td>\n",
       "      <td>Yes</td>\n",
       "      <td>Yes</td>\n",
       "      <td>Yes</td>\n",
       "      <td>Yes</td>\n",
       "      <td>0.9</td>\n",
       "      <td>135.0</td>\n",
       "      <td>42.0</td>\n",
       "      <td>3.5</td>\n",
       "      <td>0.0</td>\n",
       "      <td>No</td>\n",
       "    </tr>\n",
       "    <tr>\n",
       "      <th>2</th>\n",
       "      <td>Live</td>\n",
       "      <td>78.0</td>\n",
       "      <td>Male</td>\n",
       "      <td>Yes</td>\n",
       "      <td>Yes</td>\n",
       "      <td>No</td>\n",
       "      <td>Yes</td>\n",
       "      <td>Yes</td>\n",
       "      <td>Yes</td>\n",
       "      <td>Yes</td>\n",
       "      <td>Yes</td>\n",
       "      <td>Yes</td>\n",
       "      <td>Yes</td>\n",
       "      <td>Yes</td>\n",
       "      <td>0.7</td>\n",
       "      <td>96.0</td>\n",
       "      <td>32.0</td>\n",
       "      <td>4.0</td>\n",
       "      <td>0.0</td>\n",
       "      <td>No</td>\n",
       "    </tr>\n",
       "    <tr>\n",
       "      <th>3</th>\n",
       "      <td>Live</td>\n",
       "      <td>31.0</td>\n",
       "      <td>Male</td>\n",
       "      <td>?</td>\n",
       "      <td>No</td>\n",
       "      <td>Yes</td>\n",
       "      <td>Yes</td>\n",
       "      <td>Yes</td>\n",
       "      <td>Yes</td>\n",
       "      <td>Yes</td>\n",
       "      <td>Yes</td>\n",
       "      <td>Yes</td>\n",
       "      <td>Yes</td>\n",
       "      <td>Yes</td>\n",
       "      <td>0.7</td>\n",
       "      <td>46.0</td>\n",
       "      <td>52.0</td>\n",
       "      <td>4.0</td>\n",
       "      <td>80.0</td>\n",
       "      <td>No</td>\n",
       "    </tr>\n",
       "    <tr>\n",
       "      <th>4</th>\n",
       "      <td>Live</td>\n",
       "      <td>34.0</td>\n",
       "      <td>Male</td>\n",
       "      <td>Yes</td>\n",
       "      <td>Yes</td>\n",
       "      <td>Yes</td>\n",
       "      <td>Yes</td>\n",
       "      <td>Yes</td>\n",
       "      <td>Yes</td>\n",
       "      <td>Yes</td>\n",
       "      <td>Yes</td>\n",
       "      <td>Yes</td>\n",
       "      <td>Yes</td>\n",
       "      <td>Yes</td>\n",
       "      <td>1.0</td>\n",
       "      <td>0.0</td>\n",
       "      <td>200.0</td>\n",
       "      <td>4.0</td>\n",
       "      <td>0.0</td>\n",
       "      <td>No</td>\n",
       "    </tr>\n",
       "  </tbody>\n",
       "</table>\n",
       "</div>"
      ],
      "text/plain": [
       "  class_   age     sex sterioid antivirals fatigue malaise anorexia liver_big  \\\n",
       "0   Live  30.0  Female       No        Yes     Yes     Yes      Yes        No   \n",
       "1   Live  50.0    Male       No        Yes      No     Yes      Yes        No   \n",
       "2   Live  78.0    Male      Yes        Yes      No     Yes      Yes       Yes   \n",
       "3   Live  31.0    Male        ?         No     Yes     Yes      Yes       Yes   \n",
       "4   Live  34.0    Male      Yes        Yes     Yes     Yes      Yes       Yes   \n",
       "\n",
       "  liver_firm spleen_palable spiders ascities varices  bilirubin  \\\n",
       "0        Yes            Yes     Yes      Yes     Yes        1.0   \n",
       "1        Yes            Yes     Yes      Yes     Yes        0.9   \n",
       "2        Yes            Yes     Yes      Yes     Yes        0.7   \n",
       "3        Yes            Yes     Yes      Yes     Yes        0.7   \n",
       "4        Yes            Yes     Yes      Yes     Yes        1.0   \n",
       "\n",
       "   alk_phosphate   sgot  albumin  prothtime histology  \n",
       "0           85.0   18.0      4.0        0.0        No  \n",
       "1          135.0   42.0      3.5        0.0        No  \n",
       "2           96.0   32.0      4.0        0.0        No  \n",
       "3           46.0   52.0      4.0       80.0        No  \n",
       "4            0.0  200.0      4.0        0.0        No  "
      ]
     },
     "execution_count": 182,
     "metadata": {},
     "output_type": "execute_result"
    }
   ],
   "source": [
    "df.head()"
   ]
  },
  {
   "cell_type": "code",
   "execution_count": 183,
   "metadata": {},
   "outputs": [
    {
     "name": "stdout",
     "output_type": "stream",
     "text": [
      "<class 'pandas.core.frame.DataFrame'>\n",
      "RangeIndex: 155 entries, 0 to 154\n",
      "Data columns (total 20 columns):\n",
      " #   Column          Non-Null Count  Dtype  \n",
      "---  ------          --------------  -----  \n",
      " 0   class_          155 non-null    object \n",
      " 1   age             155 non-null    float64\n",
      " 2   sex             155 non-null    object \n",
      " 3   sterioid        155 non-null    object \n",
      " 4   antivirals      155 non-null    object \n",
      " 5   fatigue         155 non-null    object \n",
      " 6   malaise         155 non-null    object \n",
      " 7   anorexia        155 non-null    object \n",
      " 8   liver_big       155 non-null    object \n",
      " 9   liver_firm      155 non-null    object \n",
      " 10  spleen_palable  155 non-null    object \n",
      " 11  spiders         155 non-null    object \n",
      " 12  ascities        155 non-null    object \n",
      " 13  varices         155 non-null    object \n",
      " 14  bilirubin       155 non-null    float64\n",
      " 15  alk_phosphate   155 non-null    float64\n",
      " 16  sgot            155 non-null    float64\n",
      " 17  albumin         155 non-null    float64\n",
      " 18  prothtime       155 non-null    float64\n",
      " 19  histology       155 non-null    object \n",
      "dtypes: float64(6), object(14)\n",
      "memory usage: 24.3+ KB\n"
     ]
    }
   ],
   "source": [
    "df.info()"
   ]
  },
  {
   "cell_type": "code",
   "execution_count": 184,
   "metadata": {},
   "outputs": [],
   "source": [
    "#df = df.fillna(value=0)\n",
    "#for col in ['class_', 'sex', 'sterioid', 'antivirals', 'fatigue', 'malaise', 'anorexia', 'liver_big', 'liver_firm', 'spleen_palable', 'spiders', 'ascities', 'varices', 'histology']:\n",
    "#    df[col] = df[col].astype(\"int64\")"
   ]
  },
  {
   "cell_type": "markdown",
   "metadata": {},
   "source": [
    "### Feature Selection and Label Identification"
   ]
  },
  {
   "cell_type": "code",
   "execution_count": 185,
   "metadata": {},
   "outputs": [
    {
     "data": {
      "text/plain": [
       "(155, 19)"
      ]
     },
     "execution_count": 185,
     "metadata": {},
     "output_type": "execute_result"
    }
   ],
   "source": [
    "x_ = df.copy()\n",
    "x = x_.drop(columns=[\"class_\"]).copy()\n",
    "x.shape"
   ]
  },
  {
   "cell_type": "code",
   "execution_count": 186,
   "metadata": {},
   "outputs": [
    {
     "data": {
      "text/plain": [
       "array([1, 1, 1, 1, 1, 1, 0, 1, 1, 1, 1, 1, 1, 1, 1, 1, 1, 1, 1, 1, 1, 1,\n",
       "       1, 1, 1, 1, 1, 1, 1, 1, 0, 0, 1, 1, 1, 0, 1, 1, 1, 1, 1, 1, 1, 1,\n",
       "       1, 1, 1, 1, 1, 1, 1, 1, 1, 1, 1, 1, 1, 1, 1, 1, 1, 1, 1, 1, 1, 1,\n",
       "       1, 0, 1, 1, 1, 0, 1, 1, 1, 1, 0, 1, 1, 1, 1, 1, 1, 1, 1, 1, 0, 0,\n",
       "       0, 1, 1, 0, 1, 1, 0, 1, 1, 1, 0, 1, 0, 1, 1, 1, 0, 1, 0, 1, 1, 0,\n",
       "       1, 0, 1, 1, 1, 1, 1, 1, 0, 1, 0, 1, 1, 1, 1, 1, 1, 0, 1, 0, 1, 0,\n",
       "       1, 1, 0, 1, 1, 1, 0, 1, 1, 0, 1, 0, 0, 1, 0, 0, 1, 1, 0, 1, 1, 1,\n",
       "       0], dtype=int64)"
      ]
     },
     "execution_count": 186,
     "metadata": {},
     "output_type": "execute_result"
    }
   ],
   "source": [
    "y = df.class_.copy()\n",
    "y = y.replace(['Die', 'Live'], [0, 1])\n",
    "y = np.array(y)\n",
    "y"
   ]
  },
  {
   "cell_type": "code",
   "execution_count": 187,
   "metadata": {},
   "outputs": [
    {
     "name": "stdout",
     "output_type": "stream",
     "text": [
      "<class 'pandas.core.frame.DataFrame'>\n",
      "RangeIndex: 155 entries, 0 to 154\n",
      "Data columns (total 20 columns):\n",
      " #   Column          Non-Null Count  Dtype  \n",
      "---  ------          --------------  -----  \n",
      " 0   class_          155 non-null    object \n",
      " 1   age             155 non-null    float64\n",
      " 2   sex             155 non-null    object \n",
      " 3   sterioid        155 non-null    object \n",
      " 4   antivirals      155 non-null    object \n",
      " 5   fatigue         155 non-null    object \n",
      " 6   malaise         155 non-null    object \n",
      " 7   anorexia        155 non-null    object \n",
      " 8   liver_big       155 non-null    object \n",
      " 9   liver_firm      155 non-null    object \n",
      " 10  spleen_palable  155 non-null    object \n",
      " 11  spiders         155 non-null    object \n",
      " 12  ascities        155 non-null    object \n",
      " 13  varices         155 non-null    object \n",
      " 14  bilirubin       155 non-null    float64\n",
      " 15  alk_phosphate   155 non-null    float64\n",
      " 16  sgot            155 non-null    float64\n",
      " 17  albumin         155 non-null    float64\n",
      " 18  prothtime       155 non-null    float64\n",
      " 19  histology       155 non-null    object \n",
      "dtypes: float64(6), object(14)\n",
      "memory usage: 24.3+ KB\n"
     ]
    }
   ],
   "source": [
    "df.info()"
   ]
  },
  {
   "cell_type": "markdown",
   "metadata": {},
   "source": [
    "## Data Standerdization, Normalization, Best Data Selection, Splitting for Model and Test data"
   ]
  },
  {
   "cell_type": "code",
   "execution_count": 188,
   "metadata": {},
   "outputs": [],
   "source": [
    "encode_cat_list = x.select_dtypes(include='object').columns\n",
    "scale_float_list = x.select_dtypes(exclude='object').columns"
   ]
  },
  {
   "cell_type": "code",
   "execution_count": 189,
   "metadata": {},
   "outputs": [
    {
     "data": {
      "text/plain": [
       "(Index(['sex', 'sterioid', 'antivirals', 'fatigue', 'malaise', 'anorexia',\n",
       "        'liver_big', 'liver_firm', 'spleen_palable', 'spiders', 'ascities',\n",
       "        'varices', 'histology'],\n",
       "       dtype='object'),\n",
       " Index(['age', 'bilirubin', 'alk_phosphate', 'sgot', 'albumin', 'prothtime'], dtype='object'))"
      ]
     },
     "execution_count": 189,
     "metadata": {},
     "output_type": "execute_result"
    }
   ],
   "source": [
    "encode_cat_list, scale_float_list"
   ]
  },
  {
   "cell_type": "code",
   "execution_count": 190,
   "metadata": {},
   "outputs": [
    {
     "name": "stdout",
     "output_type": "stream",
     "text": [
      "<class 'pandas.core.frame.DataFrame'>\n",
      "RangeIndex: 155 entries, 0 to 154\n",
      "Data columns (total 19 columns):\n",
      " #   Column          Non-Null Count  Dtype  \n",
      "---  ------          --------------  -----  \n",
      " 0   age             155 non-null    float64\n",
      " 1   sex             155 non-null    object \n",
      " 2   sterioid        155 non-null    object \n",
      " 3   antivirals      155 non-null    object \n",
      " 4   fatigue         155 non-null    object \n",
      " 5   malaise         155 non-null    object \n",
      " 6   anorexia        155 non-null    object \n",
      " 7   liver_big       155 non-null    object \n",
      " 8   liver_firm      155 non-null    object \n",
      " 9   spleen_palable  155 non-null    object \n",
      " 10  spiders         155 non-null    object \n",
      " 11  ascities        155 non-null    object \n",
      " 12  varices         155 non-null    object \n",
      " 13  bilirubin       155 non-null    float64\n",
      " 14  alk_phosphate   155 non-null    float64\n",
      " 15  sgot            155 non-null    float64\n",
      " 16  albumin         155 non-null    float64\n",
      " 17  prothtime       155 non-null    float64\n",
      " 18  histology       155 non-null    object \n",
      "dtypes: float64(6), object(13)\n",
      "memory usage: 23.1+ KB\n"
     ]
    }
   ],
   "source": [
    "x.info()"
   ]
  },
  {
   "cell_type": "code",
   "execution_count": 191,
   "metadata": {},
   "outputs": [],
   "source": [
    "x_train,x_test, y_train,  y_test = train_test_split(x, y ,test_size=0.15, shuffle=True, random_state=10)"
   ]
  },
  {
   "cell_type": "code",
   "execution_count": 192,
   "metadata": {},
   "outputs": [
    {
     "data": {
      "text/plain": [
       "(Index(['age', 'sex', 'sterioid', 'antivirals', 'fatigue', 'malaise',\n",
       "        'anorexia', 'liver_big', 'liver_firm', 'spleen_palable', 'spiders',\n",
       "        'ascities', 'varices', 'bilirubin', 'alk_phosphate', 'sgot', 'albumin',\n",
       "        'prothtime', 'histology'],\n",
       "       dtype='object'),\n",
       " (24, 19))"
      ]
     },
     "execution_count": 192,
     "metadata": {},
     "output_type": "execute_result"
    }
   ],
   "source": [
    "x_train.columns, x_test.shape"
   ]
  },
  {
   "cell_type": "code",
   "execution_count": 193,
   "metadata": {},
   "outputs": [],
   "source": [
    "scale = StandardScaler()\n",
    "encode = OneHotEncoder()\n",
    "norm = Normalizer()\n",
    "best_select = SelectKBest(score_func=f_classif)\n",
    "preprocess = ColumnTransformer(\n",
    "    [\n",
    "        (\"scale\", scale, scale_float_list ),\n",
    "        (\"norm\", norm, scale_float_list),\n",
    "        (\"encode\", encode, encode_cat_list)\n",
    "    ]\n",
    ")\n",
    "def best_data_preprocess(features:np.matrix, labels:np.matrix):\n",
    "    x_preprocess = preprocess.fit_transform(X=features, y=labels)\n",
    "    x_preprocess = best_select.fit_transform(X=x_preprocess, y=labels)\n",
    "    return x_preprocess"
   ]
  },
  {
   "cell_type": "markdown",
   "metadata": {},
   "source": [
    "## Building Models"
   ]
  },
  {
   "cell_type": "code",
   "execution_count": 194,
   "metadata": {},
   "outputs": [
    {
     "name": "stdout",
     "output_type": "stream",
     "text": [
      "Model Name :Perceptron(penalty='elasticnet')\n",
      "Precision :0.85\n",
      "Recall :0.9444444444444444\n",
      "Score :0.8333333333333334\n",
      "F1 Score :0.8947368421052632\n"
     ]
    },
    {
     "data": {
      "image/png": "[encoded data removed]",
      "text/plain": [
       "<Figure size 432x288 with 2 Axes>"
      ]
     },
     "metadata": {
      "needs_background": "light"
     },
     "output_type": "display_data"
    },
    {
     "data": {
      "image/png": "[encoded data removed]",
      "text/plain": [
       "<Figure size 432x288 with 1 Axes>"
      ]
     },
     "metadata": {
      "needs_background": "light"
     },
     "output_type": "display_data"
    },
    {
     "data": {
      "image/png": "[encoded data removed]",
      "text/plain": [
       "<Figure size 432x288 with 1 Axes>"
      ]
     },
     "metadata": {
      "needs_background": "light"
     },
     "output_type": "display_data"
    }
   ],
   "source": [
    "x_tr = best_data_preprocess(features=x_train, labels=y_train)\n",
    "x_te = best_data_preprocess(features=x_test, labels=y_test)\n",
    "models = [[gausian], liner_models, trees, [nn_models], ensamples, [ensamples_voting], [ensamples_stacking]]\n",
    "m = []\n",
    "for modeling in models:\n",
    "    for model in modeling:\n",
    "        model.fit(X=x_tr, y=y_train)\n",
    "        y_pred = model.predict(x_te)\n",
    "        precision = precision_score(y_true=y_test, y_pred=y_pred)\n",
    "        score = model.score(X=x_te, y=y_test)\n",
    "        recall = recall_score(y_true=y_test, y_pred=y_pred)\n",
    "        f1_scor = f1_score(y_true=y_test, y_pred=y_pred)\n",
    "        if precision > 0.8 and score > 0.8 and recall > 0.5:\n",
    "            print(f\"Model Name :{model}\")\n",
    "            print(f\"Precision :{precision}\")\n",
    "            print(f\"Recall :{recall}\")\n",
    "            print(f\"Score :{score}\")\n",
    "            print(f\"F1 Score :{f1_scor}\")\n",
    "            m.append(model)\n",
    "for model in m:\n",
    "    plot_confusion_matrix(model, X = x_te,y_true=y_test)\n",
    "    plt.show()\n",
    "    plot_precision_recall_curve(model,X=x_te,y=y_test)\n",
    "    plt.show()\n",
    "    plot_roc_curve(model,X=x_te,y=y_test)\n",
    "    plt.show()\n",
    "\n"
   ]
  },
  {
   "cell_type": "code",
   "execution_count": null,
   "metadata": {},
   "outputs": [],
   "source": []
  },
  {
   "cell_type": "code",
   "execution_count": 195,
   "metadata": {},
   "outputs": [
    {
     "data": {
      "text/html": [
       "<div>\n",
       "<style scoped>\n",
       "    .dataframe tbody tr th:only-of-type {\n",
       "        vertical-align: middle;\n",
       "    }\n",
       "\n",
       "    .dataframe tbody tr th {\n",
       "        vertical-align: top;\n",
       "    }\n",
       "\n",
       "    .dataframe thead th {\n",
       "        text-align: right;\n",
       "    }\n",
       "</style>\n",
       "<table border=\"1\" class=\"dataframe\">\n",
       "  <thead>\n",
       "    <tr style=\"text-align: right;\">\n",
       "      <th></th>\n",
       "      <th>age</th>\n",
       "      <th>sex</th>\n",
       "      <th>sterioid</th>\n",
       "      <th>antivirals</th>\n",
       "      <th>fatigue</th>\n",
       "      <th>malaise</th>\n",
       "      <th>anorexia</th>\n",
       "      <th>liver_big</th>\n",
       "      <th>liver_firm</th>\n",
       "      <th>spleen_palable</th>\n",
       "      <th>spiders</th>\n",
       "      <th>ascities</th>\n",
       "      <th>varices</th>\n",
       "      <th>bilirubin</th>\n",
       "      <th>alk_phosphate</th>\n",
       "      <th>sgot</th>\n",
       "      <th>albumin</th>\n",
       "      <th>prothtime</th>\n",
       "      <th>histology</th>\n",
       "    </tr>\n",
       "  </thead>\n",
       "  <tbody>\n",
       "    <tr>\n",
       "      <th>81</th>\n",
       "      <td>36.0</td>\n",
       "      <td>Male</td>\n",
       "      <td>Yes</td>\n",
       "      <td>Yes</td>\n",
       "      <td>Yes</td>\n",
       "      <td>Yes</td>\n",
       "      <td>Yes</td>\n",
       "      <td>Yes</td>\n",
       "      <td>Yes</td>\n",
       "      <td>Yes</td>\n",
       "      <td>Yes</td>\n",
       "      <td>Yes</td>\n",
       "      <td>Yes</td>\n",
       "      <td>0.7</td>\n",
       "      <td>62.0</td>\n",
       "      <td>224.0</td>\n",
       "      <td>4.2</td>\n",
       "      <td>100.0</td>\n",
       "      <td>No</td>\n",
       "    </tr>\n",
       "    <tr>\n",
       "      <th>10</th>\n",
       "      <td>39.0</td>\n",
       "      <td>Male</td>\n",
       "      <td>No</td>\n",
       "      <td>No</td>\n",
       "      <td>Yes</td>\n",
       "      <td>Yes</td>\n",
       "      <td>Yes</td>\n",
       "      <td>No</td>\n",
       "      <td>No</td>\n",
       "      <td>Yes</td>\n",
       "      <td>Yes</td>\n",
       "      <td>Yes</td>\n",
       "      <td>Yes</td>\n",
       "      <td>1.3</td>\n",
       "      <td>78.0</td>\n",
       "      <td>30.0</td>\n",
       "      <td>4.4</td>\n",
       "      <td>85.0</td>\n",
       "      <td>No</td>\n",
       "    </tr>\n",
       "    <tr>\n",
       "      <th>90</th>\n",
       "      <td>50.0</td>\n",
       "      <td>Female</td>\n",
       "      <td>No</td>\n",
       "      <td>Yes</td>\n",
       "      <td>No</td>\n",
       "      <td>Yes</td>\n",
       "      <td>Yes</td>\n",
       "      <td>No</td>\n",
       "      <td>No</td>\n",
       "      <td>No</td>\n",
       "      <td>No</td>\n",
       "      <td>Yes</td>\n",
       "      <td>Yes</td>\n",
       "      <td>0.9</td>\n",
       "      <td>230.0</td>\n",
       "      <td>117.0</td>\n",
       "      <td>3.4</td>\n",
       "      <td>41.0</td>\n",
       "      <td>Yes</td>\n",
       "    </tr>\n",
       "    <tr>\n",
       "      <th>67</th>\n",
       "      <td>57.0</td>\n",
       "      <td>Male</td>\n",
       "      <td>Yes</td>\n",
       "      <td>Yes</td>\n",
       "      <td>No</td>\n",
       "      <td>No</td>\n",
       "      <td>No</td>\n",
       "      <td>Yes</td>\n",
       "      <td>Yes</td>\n",
       "      <td>Yes</td>\n",
       "      <td>No</td>\n",
       "      <td>No</td>\n",
       "      <td>Yes</td>\n",
       "      <td>4.1</td>\n",
       "      <td>0.0</td>\n",
       "      <td>48.0</td>\n",
       "      <td>2.6</td>\n",
       "      <td>73.0</td>\n",
       "      <td>No</td>\n",
       "    </tr>\n",
       "    <tr>\n",
       "      <th>55</th>\n",
       "      <td>37.0</td>\n",
       "      <td>Male</td>\n",
       "      <td>No</td>\n",
       "      <td>Yes</td>\n",
       "      <td>No</td>\n",
       "      <td>No</td>\n",
       "      <td>No</td>\n",
       "      <td>Yes</td>\n",
       "      <td>Yes</td>\n",
       "      <td>Yes</td>\n",
       "      <td>Yes</td>\n",
       "      <td>Yes</td>\n",
       "      <td>Yes</td>\n",
       "      <td>0.8</td>\n",
       "      <td>92.0</td>\n",
       "      <td>59.0</td>\n",
       "      <td>0.0</td>\n",
       "      <td>0.0</td>\n",
       "      <td>No</td>\n",
       "    </tr>\n",
       "  </tbody>\n",
       "</table>\n",
       "</div>"
      ],
      "text/plain": [
       "     age     sex sterioid antivirals fatigue malaise anorexia liver_big  \\\n",
       "81  36.0    Male      Yes        Yes     Yes     Yes      Yes       Yes   \n",
       "10  39.0    Male       No         No     Yes     Yes      Yes        No   \n",
       "90  50.0  Female       No        Yes      No     Yes      Yes        No   \n",
       "67  57.0    Male      Yes        Yes      No      No       No       Yes   \n",
       "55  37.0    Male       No        Yes      No      No       No       Yes   \n",
       "\n",
       "   liver_firm spleen_palable spiders ascities varices  bilirubin  \\\n",
       "81        Yes            Yes     Yes      Yes     Yes        0.7   \n",
       "10         No            Yes     Yes      Yes     Yes        1.3   \n",
       "90         No             No      No      Yes     Yes        0.9   \n",
       "67        Yes            Yes      No       No     Yes        4.1   \n",
       "55        Yes            Yes     Yes      Yes     Yes        0.8   \n",
       "\n",
       "    alk_phosphate   sgot  albumin  prothtime histology  \n",
       "81           62.0  224.0      4.2      100.0        No  \n",
       "10           78.0   30.0      4.4       85.0        No  \n",
       "90          230.0  117.0      3.4       41.0       Yes  \n",
       "67            0.0   48.0      2.6       73.0        No  \n",
       "55           92.0   59.0      0.0        0.0        No  "
      ]
     },
     "execution_count": 195,
     "metadata": {},
     "output_type": "execute_result"
    }
   ],
   "source": [
    "x_test.head()"
   ]
  },
  {
   "cell_type": "markdown",
   "metadata": {},
   "source": [
    "### Making a pipeline for Best model establishment"
   ]
  },
  {
   "cell_type": "code",
   "execution_count": 196,
   "metadata": {},
   "outputs": [
    {
     "data": {
      "text/plain": [
       "array([1, 1, 1, 0, 1, 0, 1, 1, 1, 1, 1, 1, 1, 1, 1, 1, 1, 1, 0, 1, 1, 1,\n",
       "       1, 1], dtype=int64)"
      ]
     },
     "execution_count": 196,
     "metadata": {},
     "output_type": "execute_result"
    }
   ],
   "source": [
    "#Making A pipeline\n",
    "\n",
    "final_model = Pipeline(steps=[('Preprocess',preprocess), (\"Select Best\",best_select), (\"Model\",m[0])])\n",
    "final_model.fit(X=x_train, y=y_train)\n",
    "final_model.predict(X=x_test)"
   ]
  },
  {
   "cell_type": "markdown",
   "metadata": {},
   "source": [
    "### Save the model"
   ]
  },
  {
   "cell_type": "code",
   "execution_count": 197,
   "metadata": {},
   "outputs": [
    {
     "data": {
      "text/plain": [
       "['model.json']"
      ]
     },
     "execution_count": 197,
     "metadata": {},
     "output_type": "execute_result"
    }
   ],
   "source": [
    "#Save the Model\n",
    "joblib.dump(value=final_model, filename='model.json')"
   ]
  },
  {
   "cell_type": "markdown",
   "metadata": {},
   "source": [
    "# Clustering Data"
   ]
  },
  {
   "cell_type": "code",
   "execution_count": 198,
   "metadata": {},
   "outputs": [
    {
     "name": "stdout",
     "output_type": "stream",
     "text": [
      "[0 0 0 0 0 0 0 0 0 0 0 0 0 0 0 0 0 0 0 0 0 0 1 0 0 0 1 0 0 0 0 1 0 0 0 0 0\n",
      " 0 0 0 0 0 0 0 0 0 1 0 0 0 0 0 1 0 0 0 0 0 0 0 0 0 0 0 0 1 0 0 0 1 0 0 0 0\n",
      " 0 0 0 0 0 1 0 0 0 0 0 0 0 0 0 0 0 2 0 0 0 0 0 0 0 0 0 1 0 0 0 0 0 0 0 1 0\n",
      " 1 0 0 0 0 0 1 0 1 0 0 0 0 2 0 0 0 0 0 0]\n",
      "0.6890193775689959 0.2127489605838886 0.04762695556882941 0.08870679287327521\n"
     ]
    },
    {
     "data": {
      "image/png": "[encoded data removed]",
      "text/plain": [
       "<Figure size 432x288 with 1 Axes>"
      ]
     },
     "metadata": {
      "needs_background": "light"
     },
     "output_type": "display_data"
    },
    {
     "data": {
      "text/plain": [
       "array([0, 1, 2], dtype=int64)"
      ]
     },
     "execution_count": 198,
     "metadata": {},
     "output_type": "execute_result"
    }
   ],
   "source": [
    "h1 = AgglomerativeClustering()\n",
    "h2 = AffinityPropagation()\n",
    "h3 = FeatureAgglomeration()\n",
    "h4 = OPTICS()\n",
    "h5 = Birch()\n",
    "\n",
    "def model_selection(h1, data, true_clustered):\n",
    "    x = data\n",
    "    y = true_clustered\n",
    "    h1.fit(x)\n",
    "    print(h1.labels_)\n",
    "    print(rand_score(labels_true=y, labels_pred=h1.labels_), adjusted_rand_score(y, h1.labels_), mutual_info_score(y, h1.labels_), adjusted_mutual_info_score(y, h1.labels_))\n",
    "    plt.hist(x=h1.labels_, label='Clustering')\n",
    "    plt.hist(x=y_train, label='Real')\n",
    "    plt.legend()\n",
    "    plt.show()\n",
    "    return h1.labels_\n",
    "\n",
    "\n",
    "x_train['cluster'] = model_selection(h5, data=x_tr, true_clustered=y_train)\n",
    "x_train.cluster.unique()\n",
    "\n"
   ]
  }
 ],
 "metadata": {
  "kernelspec": {
   "display_name": "Python 3",
   "language": "python",
   "name": "python3"
  },
  "language_info": {
   "codemirror_mode": {
    "name": "ipython",
    "version": 3
   },
   "file_extension": ".py",
   "mimetype": "text/x-python",
   "name": "python",
   "nbconvert_exporter": "python",
   "pygments_lexer": "ipython3",
   "version": "3.9.5"
  },
  "orig_nbformat": 4
 },
 "nbformat": 4,
 "nbformat_minor": 2
}
